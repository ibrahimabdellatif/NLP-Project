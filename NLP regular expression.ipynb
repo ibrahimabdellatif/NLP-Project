{
 "cells": [
  {
   "cell_type": "code",
   "execution_count": 2,
   "metadata": {},
   "outputs": [],
   "source": [
    "text = \"\"\"Artificial intelligence (AI) is intelligence demonstrated by machines,\n",
    "as opposed to the natural intelligence displayed by animals including humans.\n",
    "Leading AI textbooks define the field as the study of \"intelligent agents\": \n",
    "any system that perceives its environment and takes actions that maximize its \n",
    "chance of achieving its goals. Some popular accounts use the term \"artificial\n",
    "intelligence\" to describe machines that mimic \"cognitive\" functions that humans\n",
    "associate with the human mind, such as \"learning\" and \"problem solving\", however\n",
    "this definition is rejected by major AI researchers.\n",
    "\"\"\""
   ]
  },
  {
   "cell_type": "code",
   "execution_count": 3,
   "metadata": {},
   "outputs": [
    {
     "data": {
      "text/plain": [
       "'Artificial intelligence (AI) is intelligence demonstrated by machines,\\nas opposed to the natural intelligence displayed by animals including humans.\\nLeading AI textbooks define the field as the study of \"intelligent agents\": \\nany system that perceives its environment and takes actions that maximize its \\nchance of achieving its goals. Some popular accounts use the term \"artificial\\nintelligence\" to describe machines that mimic \"cognitive\" functions that humans\\nassociate with the human mind, such as \"learning\" and \"problem solving\", however\\nthis definition is rejected by major AI researchers.\\n'"
      ]
     },
     "execution_count": 3,
     "metadata": {},
     "output_type": "execute_result"
    }
   ],
   "source": [
    "text"
   ]
  },
  {
   "cell_type": "code",
   "execution_count": 24,
   "metadata": {},
   "outputs": [],
   "source": [
    "import re\n",
    "#search and findall method have two parameter-> first parameter for regular expression rule, second one for the text it self that I will serch in\n",
    "s = re.findall(r\"[A-Z]\\w+\" , text)"
   ]
  },
  {
   "cell_type": "code",
   "execution_count": 30,
   "metadata": {},
   "outputs": [],
   "source": [
    "s = re.findall(r\"[a-zA-Z]+ed\\b\" , text)"
   ]
  },
  {
   "cell_type": "code",
   "execution_count": 42,
   "metadata": {},
   "outputs": [],
   "source": [
    "s = re.findall(r\"\\b[iI]\\w+\" , text)"
   ]
  },
  {
   "cell_type": "code",
   "execution_count": 43,
   "metadata": {},
   "outputs": [
    {
     "data": {
      "text/plain": [
       "['intelligence',\n",
       " 'is',\n",
       " 'intelligence',\n",
       " 'intelligence',\n",
       " 'including',\n",
       " 'intelligent',\n",
       " 'its',\n",
       " 'its',\n",
       " 'its',\n",
       " 'intelligence',\n",
       " 'is']"
      ]
     },
     "execution_count": 43,
     "metadata": {},
     "output_type": "execute_result"
    }
   ],
   "source": [
    "s"
   ]
  },
  {
   "cell_type": "code",
   "execution_count": 44,
   "metadata": {},
   "outputs": [],
   "source": [
    "#Use Rgex. to find emails/phone numbers/.. in a document."
   ]
  },
  {
   "cell_type": "code",
   "execution_count": 134,
   "metadata": {},
   "outputs": [],
   "source": [
    "test = \"\"\"Kotlin may refer to: . Kotlin, Greater Poland Voivodeship\n",
    ", a village in west-central Poland; Kotlin Island, a Russian island\n",
    "near the head of the Gulf of Finland; Kotlin (programming language),\n",
    "a general-purpose programming language Kotlin-class destroyer,\n",
    "a class of destroyers built for the Soviet Navy; Kotlin,\n",
    "a brand of fruit and vegetable products made by Agros Nova,\n",
    "a Polish company so you can find me on this email: ibrahimabdellatif186@gmail.com \n",
    "another testing email : Test_test123@outlook.com\n",
    "or you can just using phone number : 01550255651 , this another testing phone number 012345678911\n",
    ", third testign phoen number 12345667877 , forth one 017278738727\"\"\""
   ]
  },
  {
   "cell_type": "code",
   "execution_count": 135,
   "metadata": {},
   "outputs": [
    {
     "data": {
      "text/plain": [
       "'Kotlin may refer to: . Kotlin, Greater Poland Voivodeship\\n, a village in west-central Poland; Kotlin Island, a Russian island\\nnear the head of the Gulf of Finland; Kotlin (programming language),\\na general-purpose programming language Kotlin-class destroyer,\\na class of destroyers built for the Soviet Navy; Kotlin,\\na brand of fruit and vegetable products made by Agros Nova,\\na Polish company so you can find me on this email: ibrahimabdellatif186@gmail.com \\nanother testing email : Test_test123@outlook.com\\nor you can just using phone number : 01550255651 , this another testing phone number 012345678911\\n, third testign phoen number 12345667877 , forth one 017278738727'"
      ]
     },
     "execution_count": 135,
     "metadata": {},
     "output_type": "execute_result"
    }
   ],
   "source": [
    "test"
   ]
  },
  {
   "cell_type": "code",
   "execution_count": 136,
   "metadata": {},
   "outputs": [],
   "source": [
    "#simle test for finding phone numbers first. , we can use search()method instead of findall()\n",
    "n = re.findall(r\"\\b[0-9]+\\b\",test)"
   ]
  },
  {
   "cell_type": "code",
   "execution_count": 137,
   "metadata": {},
   "outputs": [],
   "source": [
    "phone = re.findall(r\"\\b01[0125]+[0-9]+\\b\" , test)"
   ]
  },
  {
   "cell_type": "code",
   "execution_count": 143,
   "metadata": {},
   "outputs": [],
   "source": [
    "#simple finishing the fist test another one for emails \n",
    "e = re.findall(r\"\\b[a-zA-Z0-9_%]+@[a-zA-Z]+.[a-zA-Z]+\\b\" , test)"
   ]
  },
  {
   "cell_type": "code",
   "execution_count": 144,
   "metadata": {},
   "outputs": [
    {
     "data": {
      "text/plain": [
       "['ibrahimabdellatif186@gmail.com', 'Test_test123@outlook.com']"
      ]
     },
     "execution_count": 144,
     "metadata": {},
     "output_type": "execute_result"
    }
   ],
   "source": [
    "e"
   ]
  },
  {
   "cell_type": "code",
   "execution_count": 140,
   "metadata": {},
   "outputs": [
    {
     "data": {
      "text/plain": [
       "['01550255651', '012345678911']"
      ]
     },
     "execution_count": 140,
     "metadata": {},
     "output_type": "execute_result"
    }
   ],
   "source": [
    "phone"
   ]
  },
  {
   "cell_type": "code",
   "execution_count": null,
   "metadata": {},
   "outputs": [],
   "source": []
  }
 ],
 "metadata": {
  "kernelspec": {
   "display_name": "Python 3",
   "language": "python",
   "name": "python3"
  },
  "language_info": {
   "codemirror_mode": {
    "name": "ipython",
    "version": 3
   },
   "file_extension": ".py",
   "mimetype": "text/x-python",
   "name": "python",
   "nbconvert_exporter": "python",
   "pygments_lexer": "ipython3",
   "version": "3.7.3"
  }
 },
 "nbformat": 4,
 "nbformat_minor": 5
}
